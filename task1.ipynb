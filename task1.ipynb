{
 "cells": [
  {
   "cell_type": "markdown",
   "metadata": {},
   "source": [
    "## Financial Time Series Project\n",
    "#### Task 1: Data analysis"
   ]
  },
  {
   "cell_type": "markdown",
   "metadata": {},
   "source": [
    "First thing to do with the data is perform some *clean up*, in order to do that we wanna take a general look at the data."
   ]
  },
  {
   "cell_type": "code",
   "execution_count": 1,
   "metadata": {},
   "outputs": [
    {
     "name": "stdout",
     "output_type": "stream",
     "text": [
      "<class 'pandas.core.frame.DataFrame'>\n",
      "RangeIndex: 5456 entries, 0 to 5455\n",
      "Data columns (total 9 columns):\n",
      " #   Column        Non-Null Count  Dtype  \n",
      "---  ------        --------------  -----  \n",
      " 0   Unnamed: 0    5456 non-null   int64  \n",
      " 1   day           5456 non-null   int64  \n",
      " 2   gurkor        5206 non-null   float64\n",
      " 3   guitars       5206 non-null   float64\n",
      " 4   slingshots    5206 non-null   float64\n",
      " 5   stocks        5206 non-null   float64\n",
      " 6   sugar         5206 non-null   float64\n",
      " 7   water         5206 non-null   float64\n",
      " 8   tranquillity  5206 non-null   float64\n",
      "dtypes: float64(7), int64(2)\n",
      "memory usage: 383.8 KB\n"
     ]
    },
    {
     "data": {
      "application/vnd.microsoft.datawrangler.viewer.v0+json": {
       "columns": [
        {
         "name": "index",
         "rawType": "int64",
         "type": "integer"
        },
        {
         "name": "Unnamed: 0",
         "rawType": "int64",
         "type": "integer"
        },
        {
         "name": "day",
         "rawType": "int64",
         "type": "integer"
        },
        {
         "name": "gurkor",
         "rawType": "float64",
         "type": "float"
        },
        {
         "name": "guitars",
         "rawType": "float64",
         "type": "float"
        },
        {
         "name": "slingshots",
         "rawType": "float64",
         "type": "float"
        },
        {
         "name": "stocks",
         "rawType": "float64",
         "type": "float"
        },
        {
         "name": "sugar",
         "rawType": "float64",
         "type": "float"
        },
        {
         "name": "water",
         "rawType": "float64",
         "type": "float"
        },
        {
         "name": "tranquillity",
         "rawType": "float64",
         "type": "float"
        }
       ],
       "conversionMethod": "pd.DataFrame",
       "ref": "f4b26c84-e3b8-4c15-95a1-518f69df1541",
       "rows": [
        [
         "0",
         "0",
         "1",
         "6.154652911164151",
         "2.7942854914425928",
         "2.1365356",
         "10.653684",
         "3.324895992344584",
         "3.89614894509908",
         "7.75588048315321"
        ],
        [
         "1",
         "1",
         "2",
         "6.189622529977591",
         "2.843067810895035",
         "2.1135818440911054",
         "10.674465410914877",
         "3.3557356073460447",
         "3.899914957396992",
         "7.78130959949142"
        ],
        [
         "2",
         "2",
         "3",
         "6.16864075868952",
         "2.839644490231707",
         "2.1163362948001723",
         "10.822372466049696",
         "3.3364608479701308",
         "3.897404282531716",
         "7.88620470438652"
        ],
        [
         "3",
         "3",
         "4",
         "6.15640139210484",
         "2.823383717080893",
         "2.0961369896003443",
         "10.848804334576103",
         "3.288273949530353",
         "3.901170294829632",
         "7.84806102987921"
        ],
        [
         "4",
         "4",
         "5",
         "6.12492873517275",
         "2.832797848905048",
         "2.099809590545768",
         "10.860730557912946",
         "3.303693757031087",
         "3.905354752938428",
         "7.88302606484425"
        ]
       ],
       "shape": {
        "columns": 9,
        "rows": 5
       }
      },
      "text/html": [
       "<div>\n",
       "<style scoped>\n",
       "    .dataframe tbody tr th:only-of-type {\n",
       "        vertical-align: middle;\n",
       "    }\n",
       "\n",
       "    .dataframe tbody tr th {\n",
       "        vertical-align: top;\n",
       "    }\n",
       "\n",
       "    .dataframe thead th {\n",
       "        text-align: right;\n",
       "    }\n",
       "</style>\n",
       "<table border=\"1\" class=\"dataframe\">\n",
       "  <thead>\n",
       "    <tr style=\"text-align: right;\">\n",
       "      <th></th>\n",
       "      <th>Unnamed: 0</th>\n",
       "      <th>day</th>\n",
       "      <th>gurkor</th>\n",
       "      <th>guitars</th>\n",
       "      <th>slingshots</th>\n",
       "      <th>stocks</th>\n",
       "      <th>sugar</th>\n",
       "      <th>water</th>\n",
       "      <th>tranquillity</th>\n",
       "    </tr>\n",
       "  </thead>\n",
       "  <tbody>\n",
       "    <tr>\n",
       "      <th>0</th>\n",
       "      <td>0</td>\n",
       "      <td>1</td>\n",
       "      <td>6.154653</td>\n",
       "      <td>2.794285</td>\n",
       "      <td>2.136536</td>\n",
       "      <td>10.653684</td>\n",
       "      <td>3.324896</td>\n",
       "      <td>3.896149</td>\n",
       "      <td>7.755880</td>\n",
       "    </tr>\n",
       "    <tr>\n",
       "      <th>1</th>\n",
       "      <td>1</td>\n",
       "      <td>2</td>\n",
       "      <td>6.189623</td>\n",
       "      <td>2.843068</td>\n",
       "      <td>2.113582</td>\n",
       "      <td>10.674465</td>\n",
       "      <td>3.355736</td>\n",
       "      <td>3.899915</td>\n",
       "      <td>7.781310</td>\n",
       "    </tr>\n",
       "    <tr>\n",
       "      <th>2</th>\n",
       "      <td>2</td>\n",
       "      <td>3</td>\n",
       "      <td>6.168641</td>\n",
       "      <td>2.839644</td>\n",
       "      <td>2.116336</td>\n",
       "      <td>10.822372</td>\n",
       "      <td>3.336461</td>\n",
       "      <td>3.897404</td>\n",
       "      <td>7.886205</td>\n",
       "    </tr>\n",
       "    <tr>\n",
       "      <th>3</th>\n",
       "      <td>3</td>\n",
       "      <td>4</td>\n",
       "      <td>6.156401</td>\n",
       "      <td>2.823384</td>\n",
       "      <td>2.096137</td>\n",
       "      <td>10.848804</td>\n",
       "      <td>3.288274</td>\n",
       "      <td>3.901170</td>\n",
       "      <td>7.848061</td>\n",
       "    </tr>\n",
       "    <tr>\n",
       "      <th>4</th>\n",
       "      <td>4</td>\n",
       "      <td>5</td>\n",
       "      <td>6.124929</td>\n",
       "      <td>2.832798</td>\n",
       "      <td>2.099810</td>\n",
       "      <td>10.860731</td>\n",
       "      <td>3.303694</td>\n",
       "      <td>3.905355</td>\n",
       "      <td>7.883026</td>\n",
       "    </tr>\n",
       "  </tbody>\n",
       "</table>\n",
       "</div>"
      ],
      "text/plain": [
       "   Unnamed: 0  day    gurkor   guitars  slingshots     stocks     sugar  \\\n",
       "0           0    1  6.154653  2.794285    2.136536  10.653684  3.324896   \n",
       "1           1    2  6.189623  2.843068    2.113582  10.674465  3.355736   \n",
       "2           2    3  6.168641  2.839644    2.116336  10.822372  3.336461   \n",
       "3           3    4  6.156401  2.823384    2.096137  10.848804  3.288274   \n",
       "4           4    5  6.124929  2.832798    2.099810  10.860731  3.303694   \n",
       "\n",
       "      water  tranquillity  \n",
       "0  3.896149      7.755880  \n",
       "1  3.899915      7.781310  \n",
       "2  3.897404      7.886205  \n",
       "3  3.901170      7.848061  \n",
       "4  3.905355      7.883026  "
      ]
     },
     "execution_count": 1,
     "metadata": {},
     "output_type": "execute_result"
    }
   ],
   "source": [
    "import pandas as pd\n",
    "import numpy as np\n",
    "import matplotlib.pyplot as plt\n",
    "\n",
    "# Load CSV\n",
    "file_path = \"./spiff_data.csv\"\n",
    "data = pd.read_csv(file_path)\n",
    "\n",
    "data.info()\n",
    "data.head()\n",
    "\n"
   ]
  },
  {
   "cell_type": "code",
   "execution_count": 3,
   "metadata": {},
   "outputs": [
    {
     "data": {
      "application/vnd.microsoft.datawrangler.viewer.v0+json": {
       "columns": [
        {
         "name": "index",
         "rawType": "object",
         "type": "string"
        },
        {
         "name": "Unnamed: 0",
         "rawType": "float64",
         "type": "float"
        },
        {
         "name": "day",
         "rawType": "float64",
         "type": "float"
        },
        {
         "name": "gurkor",
         "rawType": "float64",
         "type": "float"
        },
        {
         "name": "guitars",
         "rawType": "float64",
         "type": "float"
        },
        {
         "name": "slingshots",
         "rawType": "float64",
         "type": "float"
        },
        {
         "name": "stocks",
         "rawType": "float64",
         "type": "float"
        },
        {
         "name": "sugar",
         "rawType": "float64",
         "type": "float"
        },
        {
         "name": "water",
         "rawType": "float64",
         "type": "float"
        },
        {
         "name": "tranquillity",
         "rawType": "float64",
         "type": "float"
        }
       ],
       "conversionMethod": "pd.DataFrame",
       "ref": "7a31e27b-1f00-4bb7-a818-0af49c3ce66d",
       "rows": [
        [
         "count",
         "5456.0",
         "5456.0",
         "5206.0",
         "5206.0",
         "5206.0",
         "5206.0",
         "5206.0",
         "5206.0",
         "5206.0"
        ],
        [
         "mean",
         "2727.5",
         "2728.5",
         "9.886550491394024",
         "6.71389784764072",
         "4.519504388319431",
         "7.309093493337964",
         "3.6214025246773893",
         "6.749451357365483",
         "12.502258201757034"
        ],
        [
         "std",
         "1575.1558653034942",
         "1575.1558653034942",
         "30.785708784808296",
         "30.850516118103435",
         "30.883866016029966",
         "30.85622047899938",
         "30.904929956598625",
         "30.825744101116843",
         "30.774130666331853"
        ],
        [
         "min",
         "0.0",
         "1.0",
         "5.94289580681976",
         "2.6290475819253",
         "2.001361619765925",
         "4.012345776386416",
         "1.370261656097852",
         "3.73941172533366",
         "6.61474888747616"
        ],
        [
         "25%",
         "1363.75",
         "1364.75",
         "6.948963060687134",
         "4.258847208375676",
         "2.8089304900404715",
         "4.917270695072562",
         "1.999489063034169",
         "4.99676435118765",
         "9.194214876033058"
        ],
        [
         "50%",
         "2727.5",
         "2728.5",
         "8.90793643608129",
         "5.91236391597249",
         "3.38489762764728",
         "5.521317904282519",
         "2.606234314675463",
         "5.7757156381654",
         "10.5912269548633"
        ],
        [
         "75%",
         "4091.25",
         "4092.25",
         "10.191397566380243",
         "7.058370218545028",
         "4.294821264241294",
         "6.977501258599876",
         "3.281805256241176",
         "6.49229523089162",
         "13.3820724729816"
        ],
        [
         "max",
         "5455.0",
         "5456.0",
         "1000.0",
         "1000.0",
         "1000.0",
         "1000.0",
         "1000.0",
         "1000.0",
         "1000.0"
        ]
       ],
       "shape": {
        "columns": 9,
        "rows": 8
       }
      },
      "text/html": [
       "<div>\n",
       "<style scoped>\n",
       "    .dataframe tbody tr th:only-of-type {\n",
       "        vertical-align: middle;\n",
       "    }\n",
       "\n",
       "    .dataframe tbody tr th {\n",
       "        vertical-align: top;\n",
       "    }\n",
       "\n",
       "    .dataframe thead th {\n",
       "        text-align: right;\n",
       "    }\n",
       "</style>\n",
       "<table border=\"1\" class=\"dataframe\">\n",
       "  <thead>\n",
       "    <tr style=\"text-align: right;\">\n",
       "      <th></th>\n",
       "      <th>Unnamed: 0</th>\n",
       "      <th>day</th>\n",
       "      <th>gurkor</th>\n",
       "      <th>guitars</th>\n",
       "      <th>slingshots</th>\n",
       "      <th>stocks</th>\n",
       "      <th>sugar</th>\n",
       "      <th>water</th>\n",
       "      <th>tranquillity</th>\n",
       "    </tr>\n",
       "  </thead>\n",
       "  <tbody>\n",
       "    <tr>\n",
       "      <th>count</th>\n",
       "      <td>5456.000000</td>\n",
       "      <td>5456.000000</td>\n",
       "      <td>5206.000000</td>\n",
       "      <td>5206.000000</td>\n",
       "      <td>5206.000000</td>\n",
       "      <td>5206.000000</td>\n",
       "      <td>5206.000000</td>\n",
       "      <td>5206.000000</td>\n",
       "      <td>5206.000000</td>\n",
       "    </tr>\n",
       "    <tr>\n",
       "      <th>mean</th>\n",
       "      <td>2727.500000</td>\n",
       "      <td>2728.500000</td>\n",
       "      <td>9.886550</td>\n",
       "      <td>6.713898</td>\n",
       "      <td>4.519504</td>\n",
       "      <td>7.309093</td>\n",
       "      <td>3.621403</td>\n",
       "      <td>6.749451</td>\n",
       "      <td>12.502258</td>\n",
       "    </tr>\n",
       "    <tr>\n",
       "      <th>std</th>\n",
       "      <td>1575.155865</td>\n",
       "      <td>1575.155865</td>\n",
       "      <td>30.785709</td>\n",
       "      <td>30.850516</td>\n",
       "      <td>30.883866</td>\n",
       "      <td>30.856220</td>\n",
       "      <td>30.904930</td>\n",
       "      <td>30.825744</td>\n",
       "      <td>30.774131</td>\n",
       "    </tr>\n",
       "    <tr>\n",
       "      <th>min</th>\n",
       "      <td>0.000000</td>\n",
       "      <td>1.000000</td>\n",
       "      <td>5.942896</td>\n",
       "      <td>2.629048</td>\n",
       "      <td>2.001362</td>\n",
       "      <td>4.012346</td>\n",
       "      <td>1.370262</td>\n",
       "      <td>3.739412</td>\n",
       "      <td>6.614749</td>\n",
       "    </tr>\n",
       "    <tr>\n",
       "      <th>25%</th>\n",
       "      <td>1363.750000</td>\n",
       "      <td>1364.750000</td>\n",
       "      <td>6.948963</td>\n",
       "      <td>4.258847</td>\n",
       "      <td>2.808930</td>\n",
       "      <td>4.917271</td>\n",
       "      <td>1.999489</td>\n",
       "      <td>4.996764</td>\n",
       "      <td>9.194215</td>\n",
       "    </tr>\n",
       "    <tr>\n",
       "      <th>50%</th>\n",
       "      <td>2727.500000</td>\n",
       "      <td>2728.500000</td>\n",
       "      <td>8.907936</td>\n",
       "      <td>5.912364</td>\n",
       "      <td>3.384898</td>\n",
       "      <td>5.521318</td>\n",
       "      <td>2.606234</td>\n",
       "      <td>5.775716</td>\n",
       "      <td>10.591227</td>\n",
       "    </tr>\n",
       "    <tr>\n",
       "      <th>75%</th>\n",
       "      <td>4091.250000</td>\n",
       "      <td>4092.250000</td>\n",
       "      <td>10.191398</td>\n",
       "      <td>7.058370</td>\n",
       "      <td>4.294821</td>\n",
       "      <td>6.977501</td>\n",
       "      <td>3.281805</td>\n",
       "      <td>6.492295</td>\n",
       "      <td>13.382072</td>\n",
       "    </tr>\n",
       "    <tr>\n",
       "      <th>max</th>\n",
       "      <td>5455.000000</td>\n",
       "      <td>5456.000000</td>\n",
       "      <td>1000.000000</td>\n",
       "      <td>1000.000000</td>\n",
       "      <td>1000.000000</td>\n",
       "      <td>1000.000000</td>\n",
       "      <td>1000.000000</td>\n",
       "      <td>1000.000000</td>\n",
       "      <td>1000.000000</td>\n",
       "    </tr>\n",
       "  </tbody>\n",
       "</table>\n",
       "</div>"
      ],
      "text/plain": [
       "        Unnamed: 0          day       gurkor      guitars   slingshots  \\\n",
       "count  5456.000000  5456.000000  5206.000000  5206.000000  5206.000000   \n",
       "mean   2727.500000  2728.500000     9.886550     6.713898     4.519504   \n",
       "std    1575.155865  1575.155865    30.785709    30.850516    30.883866   \n",
       "min       0.000000     1.000000     5.942896     2.629048     2.001362   \n",
       "25%    1363.750000  1364.750000     6.948963     4.258847     2.808930   \n",
       "50%    2727.500000  2728.500000     8.907936     5.912364     3.384898   \n",
       "75%    4091.250000  4092.250000    10.191398     7.058370     4.294821   \n",
       "max    5455.000000  5456.000000  1000.000000  1000.000000  1000.000000   \n",
       "\n",
       "            stocks        sugar        water  tranquillity  \n",
       "count  5206.000000  5206.000000  5206.000000   5206.000000  \n",
       "mean      7.309093     3.621403     6.749451     12.502258  \n",
       "std      30.856220    30.904930    30.825744     30.774131  \n",
       "min       4.012346     1.370262     3.739412      6.614749  \n",
       "25%       4.917271     1.999489     4.996764      9.194215  \n",
       "50%       5.521318     2.606234     5.775716     10.591227  \n",
       "75%       6.977501     3.281805     6.492295     13.382072  \n",
       "max    1000.000000  1000.000000  1000.000000   1000.000000  "
      ]
     },
     "execution_count": 3,
     "metadata": {},
     "output_type": "execute_result"
    }
   ],
   "source": [
    "data.describe()"
   ]
  },
  {
   "cell_type": "markdown",
   "metadata": {},
   "source": [
    "From the above we can notice two things, that the max value for each TS is 1000 which seems a bit odd and that there is some missing data."
   ]
  },
  {
   "cell_type": "code",
   "execution_count": 4,
   "metadata": {},
   "outputs": [
    {
     "data": {
      "text/plain": [
       "array([<Axes: xlabel='day'>, <Axes: xlabel='day'>, <Axes: xlabel='day'>,\n",
       "       <Axes: xlabel='day'>, <Axes: xlabel='day'>, <Axes: xlabel='day'>,\n",
       "       <Axes: xlabel='day'>], dtype=object)"
      ]
     },
     "execution_count": 4,
     "metadata": {},
     "output_type": "execute_result"
    },
    {
     "data": {
      "image/png": "[encoded data removed]",
      "text/plain": [
       "<Figure size 800x800 with 7 Axes>"
      ]
     },
     "metadata": {},
     "output_type": "display_data"
    }
   ],
   "source": [
    "data.set_index(\"day\", inplace=True)\n",
    "data.drop(columns=['Unnamed: 0'], inplace=True)\n",
    "data.plot(subplots=True, figsize=(8,8), )\n",
    "\n"
   ]
  },
  {
   "cell_type": "markdown",
   "metadata": {},
   "source": [
    "We want to clean up the data by removing the spikes"
   ]
  },
  {
   "cell_type": "code",
   "execution_count": 5,
   "metadata": {},
   "outputs": [
    {
     "data": {
      "text/plain": [
       "array([<Axes: xlabel='day'>, <Axes: xlabel='day'>, <Axes: xlabel='day'>,\n",
       "       <Axes: xlabel='day'>, <Axes: xlabel='day'>, <Axes: xlabel='day'>,\n",
       "       <Axes: xlabel='day'>], dtype=object)"
      ]
     },
     "execution_count": 5,
     "metadata": {},
     "output_type": "execute_result"
    },
    {
     "data": {
      "image/png": "[encoded data removed]",
      "text/plain": [
       "<Figure size 800x800 with 7 Axes>"
      ]
     },
     "metadata": {},
     "output_type": "display_data"
    }
   ],
   "source": [
    "data_filtered = data.copy()\n",
    "\n",
    "data_filtered[data_filtered >= 500] = np.nan\n",
    "data_filtered.plot(subplots=True, figsize=(8,8), )"
   ]
  },
  {
   "cell_type": "markdown",
   "metadata": {},
   "source": [
    "The filtered result looks much better. From looking at the plots (gurkor, water) and (guitars, slingshots) seem to have a ?similar? trend. We also see a large market crash around day 4000 for a lot of them."
   ]
  },
  {
   "cell_type": "code",
   "execution_count": 6,
   "metadata": {},
   "outputs": [
    {
     "data": {
      "application/vnd.microsoft.datawrangler.viewer.v0+json": {
       "columns": [
        {
         "name": "index",
         "rawType": "object",
         "type": "string"
        },
        {
         "name": "gurkor",
         "rawType": "float64",
         "type": "float"
        },
        {
         "name": "guitars",
         "rawType": "float64",
         "type": "float"
        },
        {
         "name": "slingshots",
         "rawType": "float64",
         "type": "float"
        },
        {
         "name": "stocks",
         "rawType": "float64",
         "type": "float"
        },
        {
         "name": "sugar",
         "rawType": "float64",
         "type": "float"
        },
        {
         "name": "water",
         "rawType": "float64",
         "type": "float"
        },
        {
         "name": "tranquillity",
         "rawType": "float64",
         "type": "float"
        }
       ],
       "conversionMethod": "pd.DataFrame",
       "ref": "094d4b98-c4e5-4372-abd5-2cea95edfb21",
       "rows": [
        [
         "count",
         "5201.0",
         "5201.0",
         "5201.0",
         "5201.0",
         "5201.0",
         "5201.0",
         "5201.0"
        ],
        [
         "mean",
         "8.934701376311727",
         "5.758998691562697",
         "3.562495644220527",
         "6.354766530728214",
         "2.663530387131414",
         "5.7945863807815225",
         "11.552923706661627"
        ],
        [
         "std",
         "2.2682885693399224",
         "1.756992649860673",
         "0.9734058949976908",
         "2.1394002399528937",
         "0.72701003783688",
         "1.2750238767232407",
         "3.067634140808226"
        ],
        [
         "min",
         "5.94289580681976",
         "2.6290475819253",
         "2.001361619765925",
         "4.012345776386416",
         "1.370261656097852",
         "3.73941172533366",
         "6.61474888747616"
        ],
        [
         "25%",
         "6.94714953431124",
         "4.25272754936631",
         "2.804868777127162",
         "4.9169197616831175",
         "1.999029629762753",
         "4.99656330574528",
         "9.18626827717737"
        ],
        [
         "50%",
         "8.90550549649185",
         "5.90784004071783",
         "3.3831301489846872",
         "5.520531090755946",
         "2.605521961915257",
         "5.77485218925752",
         "10.5848696757788"
        ],
        [
         "75%",
         "10.18391949371916",
         "7.05556784488695",
         "4.29141117155968",
         "6.946382073960399",
         "3.279982031098822",
         "6.48821696233804",
         "13.3804831532104"
        ],
        [
         "max",
         "14.13239459079801",
         "10.719387167806229",
         "6.4689823395987816",
         "13.613052095428586",
         "4.125193115067997",
         "8.94918726269136",
         "21.1379529561348"
        ]
       ],
       "shape": {
        "columns": 7,
        "rows": 8
       }
      },
      "text/html": [
       "<div>\n",
       "<style scoped>\n",
       "    .dataframe tbody tr th:only-of-type {\n",
       "        vertical-align: middle;\n",
       "    }\n",
       "\n",
       "    .dataframe tbody tr th {\n",
       "        vertical-align: top;\n",
       "    }\n",
       "\n",
       "    .dataframe thead th {\n",
       "        text-align: right;\n",
       "    }\n",
       "</style>\n",
       "<table border=\"1\" class=\"dataframe\">\n",
       "  <thead>\n",
       "    <tr style=\"text-align: right;\">\n",
       "      <th></th>\n",
       "      <th>gurkor</th>\n",
       "      <th>guitars</th>\n",
       "      <th>slingshots</th>\n",
       "      <th>stocks</th>\n",
       "      <th>sugar</th>\n",
       "      <th>water</th>\n",
       "      <th>tranquillity</th>\n",
       "    </tr>\n",
       "  </thead>\n",
       "  <tbody>\n",
       "    <tr>\n",
       "      <th>count</th>\n",
       "      <td>5201.000000</td>\n",
       "      <td>5201.000000</td>\n",
       "      <td>5201.000000</td>\n",
       "      <td>5201.000000</td>\n",
       "      <td>5201.000000</td>\n",
       "      <td>5201.000000</td>\n",
       "      <td>5201.000000</td>\n",
       "    </tr>\n",
       "    <tr>\n",
       "      <th>mean</th>\n",
       "      <td>8.934701</td>\n",
       "      <td>5.758999</td>\n",
       "      <td>3.562496</td>\n",
       "      <td>6.354767</td>\n",
       "      <td>2.663530</td>\n",
       "      <td>5.794586</td>\n",
       "      <td>11.552924</td>\n",
       "    </tr>\n",
       "    <tr>\n",
       "      <th>std</th>\n",
       "      <td>2.268289</td>\n",
       "      <td>1.756993</td>\n",
       "      <td>0.973406</td>\n",
       "      <td>2.139400</td>\n",
       "      <td>0.727010</td>\n",
       "      <td>1.275024</td>\n",
       "      <td>3.067634</td>\n",
       "    </tr>\n",
       "    <tr>\n",
       "      <th>min</th>\n",
       "      <td>5.942896</td>\n",
       "      <td>2.629048</td>\n",
       "      <td>2.001362</td>\n",
       "      <td>4.012346</td>\n",
       "      <td>1.370262</td>\n",
       "      <td>3.739412</td>\n",
       "      <td>6.614749</td>\n",
       "    </tr>\n",
       "    <tr>\n",
       "      <th>25%</th>\n",
       "      <td>6.947150</td>\n",
       "      <td>4.252728</td>\n",
       "      <td>2.804869</td>\n",
       "      <td>4.916920</td>\n",
       "      <td>1.999030</td>\n",
       "      <td>4.996563</td>\n",
       "      <td>9.186268</td>\n",
       "    </tr>\n",
       "    <tr>\n",
       "      <th>50%</th>\n",
       "      <td>8.905505</td>\n",
       "      <td>5.907840</td>\n",
       "      <td>3.383130</td>\n",
       "      <td>5.520531</td>\n",
       "      <td>2.605522</td>\n",
       "      <td>5.774852</td>\n",
       "      <td>10.584870</td>\n",
       "    </tr>\n",
       "    <tr>\n",
       "      <th>75%</th>\n",
       "      <td>10.183919</td>\n",
       "      <td>7.055568</td>\n",
       "      <td>4.291411</td>\n",
       "      <td>6.946382</td>\n",
       "      <td>3.279982</td>\n",
       "      <td>6.488217</td>\n",
       "      <td>13.380483</td>\n",
       "    </tr>\n",
       "    <tr>\n",
       "      <th>max</th>\n",
       "      <td>14.132395</td>\n",
       "      <td>10.719387</td>\n",
       "      <td>6.468982</td>\n",
       "      <td>13.613052</td>\n",
       "      <td>4.125193</td>\n",
       "      <td>8.949187</td>\n",
       "      <td>21.137953</td>\n",
       "    </tr>\n",
       "  </tbody>\n",
       "</table>\n",
       "</div>"
      ],
      "text/plain": [
       "            gurkor      guitars   slingshots       stocks        sugar  \\\n",
       "count  5201.000000  5201.000000  5201.000000  5201.000000  5201.000000   \n",
       "mean      8.934701     5.758999     3.562496     6.354767     2.663530   \n",
       "std       2.268289     1.756993     0.973406     2.139400     0.727010   \n",
       "min       5.942896     2.629048     2.001362     4.012346     1.370262   \n",
       "25%       6.947150     4.252728     2.804869     4.916920     1.999030   \n",
       "50%       8.905505     5.907840     3.383130     5.520531     2.605522   \n",
       "75%      10.183919     7.055568     4.291411     6.946382     3.279982   \n",
       "max      14.132395    10.719387     6.468982    13.613052     4.125193   \n",
       "\n",
       "             water  tranquillity  \n",
       "count  5201.000000   5201.000000  \n",
       "mean      5.794586     11.552924  \n",
       "std       1.275024      3.067634  \n",
       "min       3.739412      6.614749  \n",
       "25%       4.996563      9.186268  \n",
       "50%       5.774852     10.584870  \n",
       "75%       6.488217     13.380483  \n",
       "max       8.949187     21.137953  "
      ]
     },
     "execution_count": 6,
     "metadata": {},
     "output_type": "execute_result"
    }
   ],
   "source": [
    "data_filtered.describe()"
   ]
  },
  {
   "cell_type": "code",
   "execution_count": null,
   "metadata": {},
   "outputs": [],
   "source": []
  }
 ],
 "metadata": {
  "kernelspec": {
   "display_name": "Python 3",
   "language": "python",
   "name": "python3"
  },
  "language_info": {
   "codemirror_mode": {
    "name": "ipython",
    "version": 3
   },
   "file_extension": ".py",
   "mimetype": "text/x-python",
   "name": "python",
   "nbconvert_exporter": "python",
   "pygments_lexer": "ipython3",
   "version": "3.11.9"
  }
 },
 "nbformat": 4,
 "nbformat_minor": 2
}
